{
  "nbformat": 4,
  "nbformat_minor": 0,
  "metadata": {
    "colab": {
      "name": "slc22a5_single_mutants.ipynb",
      "provenance": [],
      "collapsed_sections": [],
      "authorship_tag": "ABX9TyOHCjqEXkC2YsF5mkhubSMi",
      "include_colab_link": true
    },
    "kernelspec": {
      "name": "python3",
      "display_name": "Python 3"
    },
    "language_info": {
      "name": "python"
    }
  },
  "cells": [
    {
      "cell_type": "markdown",
      "metadata": {
        "id": "view-in-github",
        "colab_type": "text"
      },
      "source": [
        "<a href=\"https://colab.research.google.com/github/captaincapsaicin/slc22a5/blob/main/slc22a5_single_mutants.ipynb\" target=\"_parent\"><img src=\"https://colab.research.google.com/assets/colab-badge.svg\" alt=\"Open In Colab\"/></a>"
      ]
    },
    {
      "cell_type": "code",
      "source": [
        "!pip install biopython"
      ],
      "metadata": {
        "colab": {
          "base_uri": "https://localhost:8080/"
        },
        "id": "mUaJHLz7IUdS",
        "outputId": "df6d5b1f-7df2-42bd-adc0-ffe56583e83c"
      },
      "execution_count": 1,
      "outputs": [
        {
          "output_type": "stream",
          "name": "stdout",
          "text": [
            "Requirement already satisfied: biopython in /usr/local/lib/python3.7/dist-packages (1.79)\n",
            "Requirement already satisfied: numpy in /usr/local/lib/python3.7/dist-packages (from biopython) (1.21.6)\n"
          ]
        }
      ]
    },
    {
      "cell_type": "markdown",
      "source": [
        "# Download wildtype and potts models\n",
        "\n",
        "The potts model weights are saved as npz files, which hold bias and coupling terms for trained models corresponding to alignments. See the manuscript for more details on the alignments."
      ],
      "metadata": {
        "id": "1pnbC_I17QWW"
      }
    },
    {
      "cell_type": "code",
      "execution_count": 2,
      "metadata": {
        "id": "G3EuOkog7CxK"
      },
      "outputs": [],
      "source": [
        "# wildtype\n",
        "!wget -q http://s3.amazonaws.com/songlabdata/slc22a5/O76082.fasta\n",
        "\n",
        "# potts state dicts\n",
        "!wget -q http://s3.amazonaws.com/songlabdata/slc22a5/potts/deepsequence.npz\n",
        "!wget -q http://s3.amazonaws.com/songlabdata/slc22a5/potts/eve.npz\n",
        "!wget -q http://s3.amazonaws.com/songlabdata/slc22a5/potts/hhblits.npz\n",
        "!wget -q http://s3.amazonaws.com/songlabdata/slc22a5/potts/mammals_30.npz\n",
        "!wget -q http://s3.amazonaws.com/songlabdata/slc22a5/potts/vertebrates_100.npz"
      ]
    },
    {
      "cell_type": "markdown",
      "source": [
        "# Set up utility functions"
      ],
      "metadata": {
        "id": "LkAciBD49k5b"
      }
    },
    {
      "cell_type": "code",
      "source": [
        "import os\n",
        "\n",
        "import numpy as np\n",
        "import pandas as pd"
      ],
      "metadata": {
        "id": "A-dh4Zez_xxJ"
      },
      "execution_count": 3,
      "outputs": []
    },
    {
      "cell_type": "code",
      "source": [
        "# https://github.com/nickbhat/mogwai/blob/main/mogwai/vocab.py\n",
        "\n",
        "\n",
        "from typing import Sequence, List\n",
        "\n",
        "class _FastaVocab:\n",
        "\n",
        "    def __init__(self):\n",
        "        self.ALPHABET = \"ARNDCQEGHILKMFPSTWYV-\"\n",
        "        self.A2N = {a: n for n, a in enumerate(self.ALPHABET)}\n",
        "        self.A2N[\"X\"] = 20\n",
        "\n",
        "        self.IUPAC_CODES = {\n",
        "            \"Ala\": \"A\",\n",
        "            \"Arg\": \"R\",\n",
        "            \"Asn\": \"N\",\n",
        "            \"Asp\": \"D\",\n",
        "            \"Cys\": \"C\",\n",
        "            \"Gln\": \"Q\",\n",
        "            \"Glu\": \"E\",\n",
        "            \"Gly\": \"G\",\n",
        "            \"His\": \"H\",\n",
        "            \"Ile\": \"I\",\n",
        "            \"Leu\": \"L\",\n",
        "            \"Lys\": \"K\",\n",
        "            \"Met\": \"M\",\n",
        "            \"Phe\": \"F\",\n",
        "            \"Pro\": \"P\",\n",
        "            \"Ser\": \"S\",\n",
        "            \"Thr\": \"T\",\n",
        "            \"Trp\": \"W\",\n",
        "            \"Val\": \"V\",\n",
        "            \"Tyr\": \"Y\",\n",
        "            \"Asx\": \"B\",\n",
        "            \"Sec\": \"U\",\n",
        "            \"Xaa\": \"X\",\n",
        "            \"Glx\": \"Z\",\n",
        "        }\n",
        "\n",
        "        self.THREE_LETTER = {aa: name for name, aa in self.IUPAC_CODES.items()}\n",
        "\n",
        "    def convert_indices_to_tokens(self, indices: Sequence[int]) -> List[str]:\n",
        "        return [self.ALPHABET[i] for i in indices]\n",
        "\n",
        "    def convert_tokens_to_indices(self, tokens: Sequence[str], skip_unknown: bool = False) -> List[int]:\n",
        "        if skip_unknown:\n",
        "            return [self.A2N[token] for token in tokens if token in self.A2N]\n",
        "        else:\n",
        "            return [self.A2N.get(token, 20) for token in tokens]\n",
        "\n",
        "    def tokenize(self, sequence: str) -> List[int]:\n",
        "        return self.convert_tokens_to_indices(list(sequence))\n",
        "\n",
        "    def __len__(self) -> int:\n",
        "        return 20\n",
        "\n",
        "    @property\n",
        "    def pad_idx(self) -> int:\n",
        "        return 20\n",
        "\n",
        "\n",
        "FastaVocab = _FastaVocab()"
      ],
      "metadata": {
        "id": "jdHC8BCM-g6I"
      },
      "execution_count": 4,
      "outputs": []
    },
    {
      "cell_type": "code",
      "source": [
        "# https://github.com/google-research/slip/blob/main/utils.py#L27\n",
        "def onehot(labels, num_classes):\n",
        "  \"\"\"Convert integer encoded sequences to onehot format.\n",
        "  Args:\n",
        "    labels: 2D ndarray of integer-encoded sequences, num_seqs x seq_len\n",
        "    num_classes: Number of classes\n",
        "  Returns:\n",
        "    3D onehot encoded array, num_seqs x seq_len x num_classes\n",
        "  \"\"\"\n",
        "  if len(np.shape(labels)) == 3:  # if already one-hot, return labels\n",
        "    return labels\n",
        "  elif isinstance(labels, list):\n",
        "    labels = np.asarray(labels)  # ndarray view\n",
        "  x = (labels[Ellipsis, None] == np.arange(num_classes)[None])\n",
        "  return x.astype(np.float32)"
      ],
      "metadata": {
        "id": "5p0KAUzU7Vam"
      },
      "execution_count": 5,
      "outputs": []
    },
    {
      "cell_type": "code",
      "source": [
        "# https://github.com/google-research/slip/blob/main/sampling.py#L76\n",
        "\n",
        "def get_all_single_mutants(sequence,\n",
        "                           vocab_size):\n",
        "  \"\"\"Returns all single mutants of given `sequence`.\n",
        "  For a given sequence, at each position there are `vocab_size` - 1 possible\n",
        "  mutations.\n",
        "  Args:\n",
        "    sequence: A 1d vector of ints.\n",
        "    vocab_size: The vocabulary size.\n",
        "  Returns:\n",
        "    A [(V-1)*L, L] numpy array of integer encoded sequences, where L is the\n",
        "    length of the sequence and V is the vocab size.\n",
        "  \"\"\"\n",
        "  sequence = np.array(sequence)\n",
        "  seq_length = len(sequence)\n",
        "\n",
        "  all_singles = []\n",
        "  for pos in range(seq_length):\n",
        "    num_singles = vocab_size - 1\n",
        "    singles_at_pos = np.tile(sequence, (num_singles, 1))\n",
        "    delta = np.arange(1, vocab_size, 1)\n",
        "    singles_at_pos[:, pos] = (singles_at_pos[:, pos] + delta) % vocab_size\n",
        "    all_singles.append(singles_at_pos)\n",
        "  return np.vstack(all_singles)\n",
        "\n",
        "\n",
        "\n",
        "\n",
        "# https://github.com/google-research/slip/blob/main/potts_model.py#L315\n",
        "def load_from_mogwai_statedict(path):\n",
        "    state_dict = np.load(path)\n",
        "    couplings = -1 * state_dict['weight']\n",
        "    bias = -1 * state_dict['bias']\n",
        "    \n",
        "    # Reshape the couplings from Mogwai. L, A, L, A -> L, L, A, A\n",
        "    couplings = np.moveaxis(couplings, [0, 1, 2, 3], [0, 2, 1, 3])\n",
        "    return bias, couplings\n",
        "\n",
        "def potts_energy(sequences, couplings, field, vocab_size=20):\n",
        "  \"\"\"Compute the Potts model energy.\"\"\"\n",
        "  if len(np.asarray(sequences).shape) == 1:  # single sequence\n",
        "    sequences = np.reshape(sequences, (1, -1))\n",
        "  # one-hot representation\n",
        "  onehot_seq = onehot(sequences, num_classes=vocab_size)\n",
        "  # (i, j, k, l, b) = (residue1, residue2, amino1, amino2, batch)\n",
        "  linear_term = np.einsum(\n",
        "      'ij,bij->b', field, onehot_seq, optimize='optimal') \n",
        "  quadratic_term = 0.5 * np.einsum(\n",
        "      'ijkl,bik,bjl->b',\n",
        "      couplings,\n",
        "      onehot_seq,\n",
        "      onehot_seq,\n",
        "      optimize='optimal')\n",
        "\n",
        "  return linear_term + quadratic_term\n",
        "\n"
      ],
      "metadata": {
        "id": "e2H7owHB95hz"
      },
      "execution_count": 6,
      "outputs": []
    },
    {
      "cell_type": "code",
      "source": [
        "from Bio import SeqIO\n",
        "\n",
        "def get_wildtype():\n",
        "    \"\"\"Read the wildtype sequence\n",
        "\n",
        "    Returns\n",
        "        Bio.Seq\n",
        "    \"\"\"\n",
        "    wildtype_fasta = \"O76082.fasta\"\n",
        "    with open(wildtype_fasta, \"rU\") as f:\n",
        "        for record in SeqIO.parse(f, \"fasta\"):\n",
        "            octn2_wildtype = record.seq\n",
        "    return octn2_wildtype\n",
        "\n",
        "\n",
        "def get_mutation_strings(sequences, reference_sequence):\n",
        "    mutation_strings = []\n",
        "    for sequence in sequences:\n",
        "        mutation_string = ''\n",
        "        differences = sequence != reference_sequence\n",
        "        for i in range(len(differences)):\n",
        "            if differences[i]:\n",
        "                ref_aa = FastaVocab.ALPHABET[reference_sequence[i]]\n",
        "                aa = FastaVocab.ALPHABET[sequence[i]]\n",
        "                index = i\n",
        "                mutation_string += '{}{}{} '.format(ref_aa, index, aa)\n",
        "        mutation_strings.append(mutation_string.strip())\n",
        "    return mutation_strings\n",
        "\n",
        "def get_single_mutant_energies_for_alignment(path, reference_seq):\n",
        "    bias, couplings = load_from_mogwai_statedict(path)\n",
        "\n",
        "    single_mutants = get_all_single_mutants(reference_seq, vocab_size=20)\n",
        "    sequences = np.vstack([reference_seq, single_mutants])\n",
        "    energies = potts_energy(sequences, couplings, bias, vocab_size=20) \n",
        "    \n",
        "    reference_energy = potts_energy(reference_seq, couplings, bias, vocab_size=20)\n",
        "    delta_energies = energies - reference_energy  # normalize to 0\n",
        "    mutation_strings = get_mutation_strings(sequences, reference_seq)\n",
        "    return {'delta_energy': delta_energies, 'energy': energies, 'mutation_string': mutation_strings}"
      ],
      "metadata": {
        "id": "rTuDbcFA_J2m"
      },
      "execution_count": 7,
      "outputs": []
    },
    {
      "cell_type": "markdown",
      "source": [
        "# Compute single mutant energies and save to CSV"
      ],
      "metadata": {
        "id": "Knz1nt3LJKKA"
      }
    },
    {
      "cell_type": "code",
      "source": [
        "\n",
        "wildtype_seq = get_wildtype()\n",
        "tokenized_wildtype = FastaVocab.tokenize(wildtype_seq)\n",
        "\n",
        "name_to_filename = {'hhblits': 'hhblits.npz',\n",
        "                    'deepsequence': 'deepsequence.npz',\n",
        "                    'eve': 'eve.npz',\n",
        "                    '100_vertebrates': 'vertebrates_100.npz',\n",
        "                    '30_mammals': 'mammals_30.npz'\n",
        "}\n",
        "\n",
        "for name, filename in name_to_filename.items():\n",
        "    print(name)\n",
        "    path = filename\n",
        "    single_mutant_dict = get_single_mutant_energies_for_alignment(path, tokenized_wildtype)\n",
        "    df = pd.DataFrame.from_dict(single_mutant_dict)\n",
        "    outfile = '{}_single_mutant_energies.csv'.format(name)\n",
        "    df.to_csv(outfile)"
      ],
      "metadata": {
        "colab": {
          "base_uri": "https://localhost:8080/"
        },
        "id": "L3Rt3RWi-Cp4",
        "outputId": "3f158449-b604-4ec4-bd5c-698e8c2794c3"
      },
      "execution_count": 8,
      "outputs": [
        {
          "output_type": "stream",
          "name": "stderr",
          "text": [
            "/usr/local/lib/python3.7/dist-packages/ipykernel_launcher.py:10: DeprecationWarning: 'U' mode is deprecated\n",
            "  # Remove the CWD from sys.path while we load stuff.\n"
          ]
        },
        {
          "output_type": "stream",
          "name": "stdout",
          "text": [
            "hhblits\n",
            "deepsequence\n",
            "eve\n",
            "100_vertebrates\n",
            "30_mammals\n"
          ]
        }
      ]
    },
    {
      "cell_type": "code",
      "source": [
        "import matplotlib.pyplot as plt\n",
        "import seaborn as sns\n",
        "\n",
        "def get_position_from_mutation_string(mutation_string):\n",
        "    if len(mutation_string) == 0: # wildtype\n",
        "        return None\n",
        "    index = mutation_string[1:-1]\n",
        "    return int(index)\n",
        "\n",
        "alignment = 'hhblits'\n",
        "df = pd.read_csv('{}_single_mutant_energies.csv'.format(alignment))\n",
        "df = df.dropna()  # get rid of wildtype rows\n",
        "df['position'] = df.mutation_string.apply(get_position_from_mutation_string)"
      ],
      "metadata": {
        "id": "hIdBrG7g-aaN"
      },
      "execution_count": 9,
      "outputs": []
    },
    {
      "cell_type": "markdown",
      "source": [
        "Do a quick visualization of which positions are worst"
      ],
      "metadata": {
        "id": "t4EFAqXLNYU_"
      }
    },
    {
      "cell_type": "code",
      "source": [
        "plt.figure(figsize=(12, 6))\n",
        "grouped_df = df.groupby('position').agg({'delta_energy': 'mean'}).reset_index()\n",
        "sns.scatterplot(data=grouped_df, x='position', y='delta_energy', s=16)\n",
        "plt.title(f'Average delta energy per position for {alignment}')"
      ],
      "metadata": {
        "colab": {
          "base_uri": "https://localhost:8080/",
          "height": 421
        },
        "id": "kzJQLvTkK3E2",
        "outputId": "ec302049-9ccc-406c-d4bb-3cbba90acb1a"
      },
      "execution_count": 10,
      "outputs": [
        {
          "output_type": "execute_result",
          "data": {
            "text/plain": [
              "Text(0.5, 1.0, 'Average delta energy per position for hhblits')"
            ]
          },
          "metadata": {},
          "execution_count": 10
        },
        {
          "output_type": "display_data",
          "data": {
            "text/plain": [
              "<Figure size 864x432 with 1 Axes>"
            ],
            "image/png": "[encoded data removed]"
          },
          "metadata": {
            "needs_background": "light"
          }
        }
      ]
    },
    {
      "cell_type": "code",
      "source": [
        "grouped_df.sort_values(by='delta_energy', ascending=False).head(10)"
      ],
      "metadata": {
        "colab": {
          "base_uri": "https://localhost:8080/",
          "height": 363
        },
        "id": "iVIF81RBLqV6",
        "outputId": "d5dcba82-aab8-415f-cb66-8700ca05a347"
      },
      "execution_count": 13,
      "outputs": [
        {
          "output_type": "execute_result",
          "data": {
            "text/plain": [
              "     position  delta_energy\n",
              "153       153      9.622983\n",
              "357       357      9.501696\n",
              "292       292      9.243228\n",
              "410       410      9.178557\n",
              "382       382      9.158614\n",
              "385       385      9.142026\n",
              "398       398      9.137246\n",
              "360       360      9.059814\n",
              "168       168      9.032586\n",
              "455       455      9.007543"
            ],
            "text/html": [
              "\n",
              "  <div id=\"df-eca55b4e-0a42-431d-8a9d-43a6c0c8b05c\">\n",
              "    <div class=\"colab-df-container\">\n",
              "      <div>\n",
              "<style scoped>\n",
              "    .dataframe tbody tr th:only-of-type {\n",
              "        vertical-align: middle;\n",
              "    }\n",
              "\n",
              "    .dataframe tbody tr th {\n",
              "        vertical-align: top;\n",
              "    }\n",
              "\n",
              "    .dataframe thead th {\n",
              "        text-align: right;\n",
              "    }\n",
              "</style>\n",
              "<table border=\"1\" class=\"dataframe\">\n",
              "  <thead>\n",
              "    <tr style=\"text-align: right;\">\n",
              "      <th></th>\n",
              "      <th>position</th>\n",
              "      <th>delta_energy</th>\n",
              "    </tr>\n",
              "  </thead>\n",
              "  <tbody>\n",
              "    <tr>\n",
              "      <th>153</th>\n",
              "      <td>153</td>\n",
              "      <td>9.622983</td>\n",
              "    </tr>\n",
              "    <tr>\n",
              "      <th>357</th>\n",
              "      <td>357</td>\n",
              "      <td>9.501696</td>\n",
              "    </tr>\n",
              "    <tr>\n",
              "      <th>292</th>\n",
              "      <td>292</td>\n",
              "      <td>9.243228</td>\n",
              "    </tr>\n",
              "    <tr>\n",
              "      <th>410</th>\n",
              "      <td>410</td>\n",
              "      <td>9.178557</td>\n",
              "    </tr>\n",
              "    <tr>\n",
              "      <th>382</th>\n",
              "      <td>382</td>\n",
              "      <td>9.158614</td>\n",
              "    </tr>\n",
              "    <tr>\n",
              "      <th>385</th>\n",
              "      <td>385</td>\n",
              "      <td>9.142026</td>\n",
              "    </tr>\n",
              "    <tr>\n",
              "      <th>398</th>\n",
              "      <td>398</td>\n",
              "      <td>9.137246</td>\n",
              "    </tr>\n",
              "    <tr>\n",
              "      <th>360</th>\n",
              "      <td>360</td>\n",
              "      <td>9.059814</td>\n",
              "    </tr>\n",
              "    <tr>\n",
              "      <th>168</th>\n",
              "      <td>168</td>\n",
              "      <td>9.032586</td>\n",
              "    </tr>\n",
              "    <tr>\n",
              "      <th>455</th>\n",
              "      <td>455</td>\n",
              "      <td>9.007543</td>\n",
              "    </tr>\n",
              "  </tbody>\n",
              "</table>\n",
              "</div>\n",
              "      <button class=\"colab-df-convert\" onclick=\"convertToInteractive('df-eca55b4e-0a42-431d-8a9d-43a6c0c8b05c')\"\n",
              "              title=\"Convert this dataframe to an interactive table.\"\n",
              "              style=\"display:none;\">\n",
              "        \n",
              "  <svg xmlns=\"http://www.w3.org/2000/svg\" height=\"24px\"viewBox=\"0 0 24 24\"\n",
              "       width=\"24px\">\n",
              "    <path d=\"M0 0h24v24H0V0z\" fill=\"none\"/>\n",
              "    <path d=\"M18.56 5.44l.94 2.06.94-2.06 2.06-.94-2.06-.94-.94-2.06-.94 2.06-2.06.94zm-11 1L8.5 8.5l.94-2.06 2.06-.94-2.06-.94L8.5 2.5l-.94 2.06-2.06.94zm10 10l.94 2.06.94-2.06 2.06-.94-2.06-.94-.94-2.06-.94 2.06-2.06.94z\"/><path d=\"M17.41 7.96l-1.37-1.37c-.4-.4-.92-.59-1.43-.59-.52 0-1.04.2-1.43.59L10.3 9.45l-7.72 7.72c-.78.78-.78 2.05 0 2.83L4 21.41c.39.39.9.59 1.41.59.51 0 1.02-.2 1.41-.59l7.78-7.78 2.81-2.81c.8-.78.8-2.07 0-2.86zM5.41 20L4 18.59l7.72-7.72 1.47 1.35L5.41 20z\"/>\n",
              "  </svg>\n",
              "      </button>\n",
              "      \n",
              "  <style>\n",
              "    .colab-df-container {\n",
              "      display:flex;\n",
              "      flex-wrap:wrap;\n",
              "      gap: 12px;\n",
              "    }\n",
              "\n",
              "    .colab-df-convert {\n",
              "      background-color: #E8F0FE;\n",
              "      border: none;\n",
              "      border-radius: 50%;\n",
              "      cursor: pointer;\n",
              "      display: none;\n",
              "      fill: #1967D2;\n",
              "      height: 32px;\n",
              "      padding: 0 0 0 0;\n",
              "      width: 32px;\n",
              "    }\n",
              "\n",
              "    .colab-df-convert:hover {\n",
              "      background-color: #E2EBFA;\n",
              "      box-shadow: 0px 1px 2px rgba(60, 64, 67, 0.3), 0px 1px 3px 1px rgba(60, 64, 67, 0.15);\n",
              "      fill: #174EA6;\n",
              "    }\n",
              "\n",
              "    [theme=dark] .colab-df-convert {\n",
              "      background-color: #3B4455;\n",
              "      fill: #D2E3FC;\n",
              "    }\n",
              "\n",
              "    [theme=dark] .colab-df-convert:hover {\n",
              "      background-color: #434B5C;\n",
              "      box-shadow: 0px 1px 3px 1px rgba(0, 0, 0, 0.15);\n",
              "      filter: drop-shadow(0px 1px 2px rgba(0, 0, 0, 0.3));\n",
              "      fill: #FFFFFF;\n",
              "    }\n",
              "  </style>\n",
              "\n",
              "      <script>\n",
              "        const buttonEl =\n",
              "          document.querySelector('#df-eca55b4e-0a42-431d-8a9d-43a6c0c8b05c button.colab-df-convert');\n",
              "        buttonEl.style.display =\n",
              "          google.colab.kernel.accessAllowed ? 'block' : 'none';\n",
              "\n",
              "        async function convertToInteractive(key) {\n",
              "          const element = document.querySelector('#df-eca55b4e-0a42-431d-8a9d-43a6c0c8b05c');\n",
              "          const dataTable =\n",
              "            await google.colab.kernel.invokeFunction('convertToInteractive',\n",
              "                                                     [key], {});\n",
              "          if (!dataTable) return;\n",
              "\n",
              "          const docLinkHtml = 'Like what you see? Visit the ' +\n",
              "            '<a target=\"_blank\" href=https://colab.research.google.com/notebooks/data_table.ipynb>data table notebook</a>'\n",
              "            + ' to learn more about interactive tables.';\n",
              "          element.innerHTML = '';\n",
              "          dataTable['output_type'] = 'display_data';\n",
              "          await google.colab.output.renderOutput(dataTable, element);\n",
              "          const docLink = document.createElement('div');\n",
              "          docLink.innerHTML = docLinkHtml;\n",
              "          element.appendChild(docLink);\n",
              "        }\n",
              "      </script>\n",
              "    </div>\n",
              "  </div>\n",
              "  "
            ]
          },
          "metadata": {},
          "execution_count": 13
        }
      ]
    },
    {
      "cell_type": "code",
      "source": [
        ""
      ],
      "metadata": {
        "id": "7mumYI86NdzJ"
      },
      "execution_count": null,
      "outputs": []
    }
  ]
}