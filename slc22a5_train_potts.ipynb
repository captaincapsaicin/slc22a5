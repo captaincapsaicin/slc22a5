{
  "nbformat": 4,
  "nbformat_minor": 0,
  "metadata": {
    "colab": {
      "name": "slc22a5_train_potts.ipynb",
      "provenance": [],
      "collapsed_sections": [],
      "authorship_tag": "ABX9TyMHFHcljqqk94APGf2BcEgr",
      "include_colab_link": true
    },
    "kernelspec": {
      "name": "python3",
      "display_name": "Python 3"
    },
    "language_info": {
      "name": "python"
    },
    "accelerator": "GPU",
    "widgets": {
      "application/vnd.jupyter.widget-state+json": {
        "fa8c83cdbe524f73b9244c543b6d729f": {
          "model_module": "@jupyter-widgets/controls",
          "model_name": "HBoxModel",
          "model_module_version": "1.5.0",
          "state": {
            "_dom_classes": [],
            "_model_module": "@jupyter-widgets/controls",
            "_model_module_version": "1.5.0",
            "_model_name": "HBoxModel",
            "_view_count": null,
            "_view_module": "@jupyter-widgets/controls",
            "_view_module_version": "1.5.0",
            "_view_name": "HBoxView",
            "box_style": "",
            "children": [
              "IPY_MODEL_bac4a57c59fd4acb9c946c81840cb48f",
              "IPY_MODEL_bb5c962d17324eac9d1ad40aee840c5a",
              "IPY_MODEL_a70d5e0756534292a948485567eb1292"
            ],
            "layout": "IPY_MODEL_973cb191934e44519da0b828f02aa895"
          }
        },
        "bac4a57c59fd4acb9c946c81840cb48f": {
          "model_module": "@jupyter-widgets/controls",
          "model_name": "HTMLModel",
          "model_module_version": "1.5.0",
          "state": {
            "_dom_classes": [],
            "_model_module": "@jupyter-widgets/controls",
            "_model_module_version": "1.5.0",
            "_model_name": "HTMLModel",
            "_view_count": null,
            "_view_module": "@jupyter-widgets/controls",
            "_view_module_version": "1.5.0",
            "_view_name": "HTMLView",
            "description": "",
            "description_tooltip": null,
            "layout": "IPY_MODEL_4490451474334bceb48419f5a5d37e4a",
            "placeholder": "​",
            "style": "IPY_MODEL_9988fe740b104de8866b17e727aa61ce",
            "value": "Epoch 0:   0%"
          }
        },
        "bb5c962d17324eac9d1ad40aee840c5a": {
          "model_module": "@jupyter-widgets/controls",
          "model_name": "FloatProgressModel",
          "model_module_version": "1.5.0",
          "state": {
            "_dom_classes": [],
            "_model_module": "@jupyter-widgets/controls",
            "_model_module_version": "1.5.0",
            "_model_name": "FloatProgressModel",
            "_view_count": null,
            "_view_module": "@jupyter-widgets/controls",
            "_view_module_version": "1.5.0",
            "_view_name": "ProgressView",
            "bar_style": "",
            "description": "",
            "description_tooltip": null,
            "layout": "IPY_MODEL_77b3fd66df0d47d5979a70fdd85e16e2",
            "max": 910,
            "min": 0,
            "orientation": "horizontal",
            "style": "IPY_MODEL_99e0c1e11d3b46a7b5299b263f552fe0",
            "value": 0
          }
        },
        "a70d5e0756534292a948485567eb1292": {
          "model_module": "@jupyter-widgets/controls",
          "model_name": "HTMLModel",
          "model_module_version": "1.5.0",
          "state": {
            "_dom_classes": [],
            "_model_module": "@jupyter-widgets/controls",
            "_model_module_version": "1.5.0",
            "_model_name": "HTMLModel",
            "_view_count": null,
            "_view_module": "@jupyter-widgets/controls",
            "_view_module_version": "1.5.0",
            "_view_name": "HTMLView",
            "description": "",
            "description_tooltip": null,
            "layout": "IPY_MODEL_a5a7053579a044188368a3a164c478c6",
            "placeholder": "​",
            "style": "IPY_MODEL_2b10ff00c924493eb7496c291c91eb02",
            "value": " 0/910 [00:00&lt;?, ?it/s]"
          }
        },
        "973cb191934e44519da0b828f02aa895": {
          "model_module": "@jupyter-widgets/base",
          "model_name": "LayoutModel",
          "model_module_version": "1.2.0",
          "state": {
            "_model_module": "@jupyter-widgets/base",
            "_model_module_version": "1.2.0",
            "_model_name": "LayoutModel",
            "_view_count": null,
            "_view_module": "@jupyter-widgets/base",
            "_view_module_version": "1.2.0",
            "_view_name": "LayoutView",
            "align_content": null,
            "align_items": null,
            "align_self": null,
            "border": null,
            "bottom": null,
            "display": "inline-flex",
            "flex": null,
            "flex_flow": "row wrap",
            "grid_area": null,
            "grid_auto_columns": null,
            "grid_auto_flow": null,
            "grid_auto_rows": null,
            "grid_column": null,
            "grid_gap": null,
            "grid_row": null,
            "grid_template_areas": null,
            "grid_template_columns": null,
            "grid_template_rows": null,
            "height": null,
            "justify_content": null,
            "justify_items": null,
            "left": null,
            "margin": null,
            "max_height": null,
            "max_width": null,
            "min_height": null,
            "min_width": null,
            "object_fit": null,
            "object_position": null,
            "order": null,
            "overflow": null,
            "overflow_x": null,
            "overflow_y": null,
            "padding": null,
            "right": null,
            "top": null,
            "visibility": null,
            "width": "100%"
          }
        },
        "4490451474334bceb48419f5a5d37e4a": {
          "model_module": "@jupyter-widgets/base",
          "model_name": "LayoutModel",
          "model_module_version": "1.2.0",
          "state": {
            "_model_module": "@jupyter-widgets/base",
            "_model_module_version": "1.2.0",
            "_model_name": "LayoutModel",
            "_view_count": null,
            "_view_module": "@jupyter-widgets/base",
            "_view_module_version": "1.2.0",
            "_view_name": "LayoutView",
            "align_content": null,
            "align_items": null,
            "align_self": null,
            "border": null,
            "bottom": null,
            "display": null,
            "flex": null,
            "flex_flow": null,
            "grid_area": null,
            "grid_auto_columns": null,
            "grid_auto_flow": null,
            "grid_auto_rows": null,
            "grid_column": null,
            "grid_gap": null,
            "grid_row": null,
            "grid_template_areas": null,
            "grid_template_columns": null,
            "grid_template_rows": null,
            "height": null,
            "justify_content": null,
            "justify_items": null,
            "left": null,
            "margin": null,
            "max_height": null,
            "max_width": null,
            "min_height": null,
            "min_width": null,
            "object_fit": null,
            "object_position": null,
            "order": null,
            "overflow": null,
            "overflow_x": null,
            "overflow_y": null,
            "padding": null,
            "right": null,
            "top": null,
            "visibility": null,
            "width": null
          }
        },
        "9988fe740b104de8866b17e727aa61ce": {
          "model_module": "@jupyter-widgets/controls",
          "model_name": "DescriptionStyleModel",
          "model_module_version": "1.5.0",
          "state": {
            "_model_module": "@jupyter-widgets/controls",
            "_model_module_version": "1.5.0",
            "_model_name": "DescriptionStyleModel",
            "_view_count": null,
            "_view_module": "@jupyter-widgets/base",
            "_view_module_version": "1.2.0",
            "_view_name": "StyleView",
            "description_width": ""
          }
        },
        "77b3fd66df0d47d5979a70fdd85e16e2": {
          "model_module": "@jupyter-widgets/base",
          "model_name": "LayoutModel",
          "model_module_version": "1.2.0",
          "state": {
            "_model_module": "@jupyter-widgets/base",
            "_model_module_version": "1.2.0",
            "_model_name": "LayoutModel",
            "_view_count": null,
            "_view_module": "@jupyter-widgets/base",
            "_view_module_version": "1.2.0",
            "_view_name": "LayoutView",
            "align_content": null,
            "align_items": null,
            "align_self": null,
            "border": null,
            "bottom": null,
            "display": null,
            "flex": "2",
            "flex_flow": null,
            "grid_area": null,
            "grid_auto_columns": null,
            "grid_auto_flow": null,
            "grid_auto_rows": null,
            "grid_column": null,
            "grid_gap": null,
            "grid_row": null,
            "grid_template_areas": null,
            "grid_template_columns": null,
            "grid_template_rows": null,
            "height": null,
            "justify_content": null,
            "justify_items": null,
            "left": null,
            "margin": null,
            "max_height": null,
            "max_width": null,
            "min_height": null,
            "min_width": null,
            "object_fit": null,
            "object_position": null,
            "order": null,
            "overflow": null,
            "overflow_x": null,
            "overflow_y": null,
            "padding": null,
            "right": null,
            "top": null,
            "visibility": null,
            "width": null
          }
        },
        "99e0c1e11d3b46a7b5299b263f552fe0": {
          "model_module": "@jupyter-widgets/controls",
          "model_name": "ProgressStyleModel",
          "model_module_version": "1.5.0",
          "state": {
            "_model_module": "@jupyter-widgets/controls",
            "_model_module_version": "1.5.0",
            "_model_name": "ProgressStyleModel",
            "_view_count": null,
            "_view_module": "@jupyter-widgets/base",
            "_view_module_version": "1.2.0",
            "_view_name": "StyleView",
            "bar_color": null,
            "description_width": ""
          }
        },
        "a5a7053579a044188368a3a164c478c6": {
          "model_module": "@jupyter-widgets/base",
          "model_name": "LayoutModel",
          "model_module_version": "1.2.0",
          "state": {
            "_model_module": "@jupyter-widgets/base",
            "_model_module_version": "1.2.0",
            "_model_name": "LayoutModel",
            "_view_count": null,
            "_view_module": "@jupyter-widgets/base",
            "_view_module_version": "1.2.0",
            "_view_name": "LayoutView",
            "align_content": null,
            "align_items": null,
            "align_self": null,
            "border": null,
            "bottom": null,
            "display": null,
            "flex": null,
            "flex_flow": null,
            "grid_area": null,
            "grid_auto_columns": null,
            "grid_auto_flow": null,
            "grid_auto_rows": null,
            "grid_column": null,
            "grid_gap": null,
            "grid_row": null,
            "grid_template_areas": null,
            "grid_template_columns": null,
            "grid_template_rows": null,
            "height": null,
            "justify_content": null,
            "justify_items": null,
            "left": null,
            "margin": null,
            "max_height": null,
            "max_width": null,
            "min_height": null,
            "min_width": null,
            "object_fit": null,
            "object_position": null,
            "order": null,
            "overflow": null,
            "overflow_x": null,
            "overflow_y": null,
            "padding": null,
            "right": null,
            "top": null,
            "visibility": null,
            "width": null
          }
        },
        "2b10ff00c924493eb7496c291c91eb02": {
          "model_module": "@jupyter-widgets/controls",
          "model_name": "DescriptionStyleModel",
          "model_module_version": "1.5.0",
          "state": {
            "_model_module": "@jupyter-widgets/controls",
            "_model_module_version": "1.5.0",
            "_model_name": "DescriptionStyleModel",
            "_view_count": null,
            "_view_module": "@jupyter-widgets/base",
            "_view_module_version": "1.2.0",
            "_view_name": "StyleView",
            "description_width": ""
          }
        }
      }
    }
  },
  "cells": [
    {
      "cell_type": "markdown",
      "metadata": {
        "id": "view-in-github",
        "colab_type": "text"
      },
      "source": [
        "<a href=\"https://colab.research.google.com/github/captaincapsaicin/slc22a5/blob/main/slc22a5_train_potts.ipynb\" target=\"_parent\"><img src=\"https://colab.research.google.com/assets/colab-badge.svg\" alt=\"Open In Colab\"/></a>"
      ]
    },
    {
      "cell_type": "markdown",
      "source": [
        "# Install mogwai"
      ],
      "metadata": {
        "id": "ih_SIgoA7kpc"
      }
    },
    {
      "cell_type": "code",
      "execution_count": 1,
      "metadata": {
        "colab": {
          "base_uri": "https://localhost:8080/"
        },
        "id": "EktPZrIN6Euz",
        "outputId": "93e106db-8062-4870-a5f8-bf911b84a4f1"
      },
      "outputs": [
        {
          "output_type": "stream",
          "name": "stdout",
          "text": [
            "\u001b[K     |████████████████████████████████| 2.3 MB 26.8 MB/s \n",
            "\u001b[K     |████████████████████████████████| 584 kB 54.3 MB/s \n",
            "\u001b[K     |████████████████████████████████| 31.8 MB 1.2 MB/s \n",
            "\u001b[?25h  Installing build dependencies ... \u001b[?25l\u001b[?25hdone\n",
            "  Getting requirements to build wheel ... \u001b[?25l\u001b[?25hdone\n",
            "    Preparing wheel metadata ... \u001b[?25l\u001b[?25hdone\n",
            "\u001b[33mWARNING: Retrying (Retry(total=4, connect=None, read=None, redirect=None, status=None)) after connection broken by 'ProtocolError('Connection aborted.', ConnectionResetError(104, 'Connection reset by peer'))': /simple/pydeprecate/\u001b[0m\n",
            "\u001b[K     |████████████████████████████████| 596 kB 50.9 MB/s \n",
            "\u001b[K     |████████████████████████████████| 408 kB 53.2 MB/s \n",
            "\u001b[K     |████████████████████████████████| 136 kB 43.5 MB/s \n",
            "\u001b[K     |████████████████████████████████| 1.1 MB 61.9 MB/s \n",
            "\u001b[K     |████████████████████████████████| 271 kB 61.8 MB/s \n",
            "\u001b[K     |████████████████████████████████| 144 kB 47.8 MB/s \n",
            "\u001b[K     |████████████████████████████████| 94 kB 3.4 MB/s \n",
            "\u001b[?25h  Building wheel for mogwai-protein (setup.py) ... \u001b[?25l\u001b[?25hdone\n",
            "  Building wheel for biotite (PEP 517) ... \u001b[?25l\u001b[?25hdone\n"
          ]
        }
      ],
      "source": [
        "# takes ~3 mins\n",
        "\n",
        "!pip install -q git+https://github.com/nickbhat/mogwai.git@stage-lightning-exception"
      ]
    },
    {
      "cell_type": "code",
      "source": [
        "import matplotlib.pyplot as plt\n",
        "import numpy as np\n",
        "import pandas as pd\n",
        "import pytorch_lightning as pl\n",
        "import torch\n",
        "from tqdm import tqdm\n"
      ],
      "metadata": {
        "id": "bUK5ZHiE7ZNY"
      },
      "execution_count": 2,
      "outputs": []
    },
    {
      "cell_type": "markdown",
      "source": [
        "# Download alignments and wildtype"
      ],
      "metadata": {
        "id": "asyA_LMUBy8S"
      }
    },
    {
      "cell_type": "code",
      "source": [
        "# wildtype\n",
        "!wget http://s3.amazonaws.com/songlabdata/slc22a5/O76082.fasta\n",
        "\n",
        "# alignments\n",
        "!wget http://s3.amazonaws.com/songlabdata/slc22a5/alignments/mammals_30.a3m\n",
        "!wget http://s3.amazonaws.com/songlabdata/slc22a5/alignments/hhblits.a3m\n",
        "!wget http://s3.amazonaws.com/songlabdata/slc22a5/alignments/vertebrates_100.a3m\n",
        "!wget http://s3.amazonaws.com/songlabdata/slc22a5/alignments/eve.a3m\n",
        "!wget http://s3.amazonaws.com/songlabdata/slc22a5/alignments/deepsequence.a3m"
      ],
      "metadata": {
        "colab": {
          "base_uri": "https://localhost:8080/"
        },
        "id": "R5UIRrrn8Pv1",
        "outputId": "b0b4f0c5-ff7c-483e-d132-dbfecd66f5ad"
      },
      "execution_count": 3,
      "outputs": [
        {
          "output_type": "stream",
          "name": "stdout",
          "text": [
            "--2022-05-04 15:59:35--  http://s3.amazonaws.com/songlabdata/slc22a5/O76082.fasta\n",
            "Resolving s3.amazonaws.com (s3.amazonaws.com)... 52.217.65.70\n",
            "Connecting to s3.amazonaws.com (s3.amazonaws.com)|52.217.65.70|:80... connected.\n",
            "HTTP request sent, awaiting response... 200 OK\n",
            "Length: 669 [binary/octet-stream]\n",
            "Saving to: ‘O76082.fasta’\n",
            "\n",
            "\rO76082.fasta          0%[                    ]       0  --.-KB/s               \rO76082.fasta        100%[===================>]     669  --.-KB/s    in 0s      \n",
            "\n",
            "2022-05-04 15:59:35 (67.6 MB/s) - ‘O76082.fasta’ saved [669/669]\n",
            "\n",
            "--2022-05-04 15:59:35--  http://s3.amazonaws.com/songlabdata/slc22a5/alignments/mammals_30.a3m\n",
            "Resolving s3.amazonaws.com (s3.amazonaws.com)... 52.217.65.70\n",
            "Connecting to s3.amazonaws.com (s3.amazonaws.com)|52.217.65.70|:80... connected.\n",
            "HTTP request sent, awaiting response... 200 OK\n",
            "Length: 18796 (18K) [binary/octet-stream]\n",
            "Saving to: ‘mammals_30.a3m’\n",
            "\n",
            "mammals_30.a3m      100%[===================>]  18.36K  --.-KB/s    in 0.005s  \n",
            "\n",
            "2022-05-04 15:59:36 (3.89 MB/s) - ‘mammals_30.a3m’ saved [18796/18796]\n",
            "\n",
            "--2022-05-04 15:59:36--  http://s3.amazonaws.com/songlabdata/slc22a5/alignments/hhblits.a3m\n",
            "Resolving s3.amazonaws.com (s3.amazonaws.com)... 52.217.65.70\n",
            "Connecting to s3.amazonaws.com (s3.amazonaws.com)|52.217.65.70|:80... connected.\n",
            "HTTP request sent, awaiting response... 200 OK\n",
            "Length: 4310909 (4.1M) [binary/octet-stream]\n",
            "Saving to: ‘hhblits.a3m’\n",
            "\n",
            "hhblits.a3m         100%[===================>]   4.11M  17.3MB/s    in 0.2s    \n",
            "\n",
            "2022-05-04 15:59:36 (17.3 MB/s) - ‘hhblits.a3m’ saved [4310909/4310909]\n",
            "\n",
            "--2022-05-04 15:59:36--  http://s3.amazonaws.com/songlabdata/slc22a5/alignments/vertebrates_100.a3m\n",
            "Resolving s3.amazonaws.com (s3.amazonaws.com)... 52.217.65.70\n",
            "Connecting to s3.amazonaws.com (s3.amazonaws.com)|52.217.65.70|:80... connected.\n",
            "HTTP request sent, awaiting response... 200 OK\n",
            "Length: 59390 (58K) [binary/octet-stream]\n",
            "Saving to: ‘vertebrates_100.a3m’\n",
            "\n",
            "vertebrates_100.a3m 100%[===================>]  58.00K  --.-KB/s    in 0.004s  \n",
            "\n",
            "2022-05-04 15:59:36 (16.1 MB/s) - ‘vertebrates_100.a3m’ saved [59390/59390]\n",
            "\n",
            "--2022-05-04 15:59:36--  http://s3.amazonaws.com/songlabdata/slc22a5/alignments/eve.a3m\n",
            "Resolving s3.amazonaws.com (s3.amazonaws.com)... 52.217.65.70\n",
            "Connecting to s3.amazonaws.com (s3.amazonaws.com)|52.217.65.70|:80... connected.\n",
            "HTTP request sent, awaiting response... 200 OK\n",
            "Length: 11854631 (11M) [binary/octet-stream]\n",
            "Saving to: ‘eve.a3m’\n",
            "\n",
            "eve.a3m             100%[===================>]  11.30M  37.5MB/s    in 0.3s    \n",
            "\n",
            "2022-05-04 15:59:37 (37.5 MB/s) - ‘eve.a3m’ saved [11854631/11854631]\n",
            "\n",
            "--2022-05-04 15:59:37--  http://s3.amazonaws.com/songlabdata/slc22a5/alignments/deepsequence.a3m\n",
            "Resolving s3.amazonaws.com (s3.amazonaws.com)... 52.217.234.104\n",
            "Connecting to s3.amazonaws.com (s3.amazonaws.com)|52.217.234.104|:80... connected.\n",
            "HTTP request sent, awaiting response... 200 OK\n",
            "Length: 29501362 (28M) [binary/octet-stream]\n",
            "Saving to: ‘deepsequence.a3m’\n",
            "\n",
            "deepsequence.a3m    100%[===================>]  28.13M  52.0MB/s    in 0.5s    \n",
            "\n",
            "2022-05-04 15:59:37 (52.0 MB/s) - ‘deepsequence.a3m’ saved [29501362/29501362]\n",
            "\n"
          ]
        }
      ]
    },
    {
      "cell_type": "markdown",
      "source": [
        "# Train model"
      ],
      "metadata": {
        "id": "RDRxhz3WFkIg"
      }
    },
    {
      "cell_type": "code",
      "source": [
        "import mogwai.models as models\n",
        "import mogwai.data_loading as data_loading\n",
        "import os\n",
        "\n",
        "def torch_to_numpy(state_dict, keys):\n",
        "    \"\"\"Convert `keys` in the `state_dict` to numpy arrays.\"\"\"\n",
        "    numpy_dict = dict()\n",
        "    for key in keys:\n",
        "        numpy_dict[key] = state_dict[key].numpy()\n",
        "    return numpy_dict\n",
        "\n",
        "\n",
        "def get_outfile_path(alignment_path):\n",
        "    prefix, suffix = alignment_path.rsplit('.', 1)\n",
        "    return os.path.join(prefix + '_potts_state_dict.npz')"
      ],
      "metadata": {
        "id": "qEC0gePJBxaj"
      },
      "execution_count": 4,
      "outputs": []
    },
    {
      "cell_type": "code",
      "source": [
        "def train_potts(alignment_path, max_steps, gpus):\n",
        "    print('Reading {}'.format(alignment_path))\n",
        "    # Load msa\n",
        "    msa_dm = data_loading.MSADataModule(alignment_path, batch_size=4096)\n",
        "    msa_dm.setup()\n",
        "\n",
        "    # Initialize model\n",
        "    num_seqs, msa_length, msa_counts = msa_dm.get_stats()\n",
        "    model = models.Gremlin(num_seqs, msa_length, msa_counts)\n",
        "\n",
        "    # Initialize Trainer\n",
        "    trainer = pl.Trainer(min_steps=50, max_steps=max_steps, gpus=gpus)\n",
        "\n",
        "    # Train model\n",
        "    trainer.fit(model, msa_dm)\n",
        "\n",
        "    # save model\n",
        "\n",
        "    model_dict = torch_to_numpy(model.state_dict(), ['weight', 'bias'])\n",
        "\n",
        "    outfile = get_outfile_path(alignment_path)\n",
        "\n",
        "    np.savez(outfile, **model_dict)\n",
        "    print('Saved model state dict to {}'.format(outfile))"
      ],
      "metadata": {
        "id": "BVpOeyOYBcva"
      },
      "execution_count": 5,
      "outputs": []
    },
    {
      "cell_type": "code",
      "source": [
        "# this takes about 10 mins.\n",
        "alignment_path = 'deepsequence.a3m'\n",
        "max_steps = 500\n",
        "gpus = None  # set this to None if connected to CPU runtime or [0] if connected to GPU runtime\n",
        "train_potts(alignment_path=alignment_path, max_steps=max_steps, gpus=gpus)"
      ],
      "metadata": {
        "colab": {
          "base_uri": "https://localhost:8080/",
          "height": 1000,
          "referenced_widgets": [
            "fa8c83cdbe524f73b9244c543b6d729f",
            "bac4a57c59fd4acb9c946c81840cb48f",
            "bb5c962d17324eac9d1ad40aee840c5a",
            "a70d5e0756534292a948485567eb1292",
            "973cb191934e44519da0b828f02aa895",
            "4490451474334bceb48419f5a5d37e4a",
            "9988fe740b104de8866b17e727aa61ce",
            "77b3fd66df0d47d5979a70fdd85e16e2",
            "99e0c1e11d3b46a7b5299b263f552fe0",
            "a5a7053579a044188368a3a164c478c6",
            "2b10ff00c924493eb7496c291c91eb02"
          ]
        },
        "id": "-Vq9hw51Ghar",
        "outputId": "a8e2bf34-9201-410f-a099-4507c5b05fab"
      },
      "execution_count": null,
      "outputs": [
        {
          "output_type": "stream",
          "name": "stdout",
          "text": [
            "Reading deepsequence.a3m\n"
          ]
        },
        {
          "output_type": "stream",
          "name": "stderr",
          "text": [
            "Traceback (most recent call last):\n",
            "  File \"/usr/lib/python3.7/multiprocessing/queues.py\", line 232, in _feed\n",
            "    close()\n",
            "Traceback (most recent call last):\n",
            "  File \"/usr/lib/python3.7/multiprocessing/queues.py\", line 232, in _feed\n",
            "    close()\n",
            "  File \"/usr/lib/python3.7/multiprocessing/connection.py\", line 177, in close\n",
            "    self._close()\n",
            "  File \"/usr/lib/python3.7/multiprocessing/connection.py\", line 361, in _close\n",
            "    _close(self._handle)\n",
            "OSError: [Errno 9] Bad file descriptor\n",
            "Traceback (most recent call last):\n",
            "  File \"/usr/lib/python3.7/multiprocessing/queues.py\", line 242, in _feed\n",
            "    send_bytes(obj)\n",
            "  File \"/usr/lib/python3.7/multiprocessing/connection.py\", line 200, in send_bytes\n",
            "    self._send_bytes(m[offset:offset + size])\n",
            "  File \"/usr/lib/python3.7/multiprocessing/connection.py\", line 177, in close\n",
            "    self._close()\n",
            "  File \"/usr/lib/python3.7/multiprocessing/connection.py\", line 361, in _close\n",
            "    _close(self._handle)\n",
            "  File \"/usr/lib/python3.7/multiprocessing/connection.py\", line 404, in _send_bytes\n",
            "    self._send(header + buf)\n",
            "  File \"/usr/lib/python3.7/multiprocessing/connection.py\", line 368, in _send\n",
            "    n = write(self._handle, buf)\n",
            "OSError: [Errno 9] Bad file descriptor\n",
            "OSError: [Errno 9] Bad file descriptor\n",
            "Exception in thread QueueFeederThread:\n",
            "Traceback (most recent call last):\n",
            "  File \"/usr/lib/python3.7/multiprocessing/queues.py\", line 232, in _feed\n",
            "    close()\n",
            "  File \"/usr/lib/python3.7/multiprocessing/connection.py\", line 177, in close\n",
            "    self._close()\n",
            "  File \"/usr/lib/python3.7/multiprocessing/connection.py\", line 361, in _close\n",
            "    _close(self._handle)\n",
            "OSError: [Errno 9] Bad file descriptor\n",
            "\n",
            "During handling of the above exception, another exception occurred:\n",
            "\n",
            "Traceback (most recent call last):\n",
            "  File \"/usr/lib/python3.7/threading.py\", line 926, in _bootstrap_inner\n",
            "    self.run()\n",
            "  File \"/usr/lib/python3.7/threading.py\", line 870, in run\n",
            "    self._target(*self._args, **self._kwargs)\n",
            "  File \"/usr/lib/python3.7/multiprocessing/queues.py\", line 263, in _feed\n",
            "    queue_sem.release()\n",
            "ValueError: semaphore or lock released too many times\n",
            "\n",
            "/usr/local/lib/python3.7/dist-packages/pytorch_lightning/core/datamodule.py:149: LightningDeprecationWarning: DataModule property `dims` was deprecated in v1.5 and will be removed in v1.7.\n",
            "  rank_zero_deprecation(\"DataModule property `dims` was deprecated in v1.5 and will be removed in v1.7.\")\n",
            "GPU available: False, used: False\n",
            "TPU available: False, using: 0 TPU cores\n",
            "IPU available: False, using: 0 IPUs\n",
            "HPU available: False, using: 0 HPUs\n",
            "\n",
            "  | Name | Type | Params\n",
            "------------------------------\n",
            "------------------------------\n",
            "124 M     Trainable params\n",
            "0         Non-trainable params\n",
            "124 M     Total params\n",
            "496.443   Total estimated model params size (MB)\n",
            "/usr/local/lib/python3.7/dist-packages/torch/utils/data/dataloader.py:490: UserWarning: This DataLoader will create 4 worker processes in total. Our suggested max number of worker in current system is 2, which is smaller than what this DataLoader is going to create. Please be aware that excessive worker creation might get DataLoader running slow or even freeze, lower the worker number to avoid potential slowness/freeze if necessary.\n",
            "  cpuset_checked))\n"
          ]
        },
        {
          "output_type": "display_data",
          "data": {
            "text/plain": [
              "Training: 0it [00:00, ?it/s]"
            ],
            "application/vnd.jupyter.widget-view+json": {
              "version_major": 2,
              "version_minor": 0,
              "model_id": "fa8c83cdbe524f73b9244c543b6d729f"
            }
          },
          "metadata": {}
        }
      ]
    },
    {
      "cell_type": "code",
      "source": [
        ""
      ],
      "metadata": {
        "id": "BkMvzSXX6g3Z"
      },
      "execution_count": null,
      "outputs": []
    }
  ]
}